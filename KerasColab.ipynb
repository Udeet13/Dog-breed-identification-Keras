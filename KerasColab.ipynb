{
  "nbformat": 4,
  "nbformat_minor": 0,
  "metadata": {
    "colab": {
      "name": "KerasColab.ipynb",
      "version": "0.3.2",
      "provenance": [],
      "collapsed_sections": [],
      "include_colab_link": true
    },
    "kernelspec": {
      "name": "python3",
      "display_name": "Python 3"
    },
    "accelerator": "TPU"
  },
  "cells": [
    {
      "cell_type": "markdown",
      "metadata": {
        "id": "view-in-github",
        "colab_type": "text"
      },
      "source": [
        "<a href=\"https://colab.research.google.com/github/Udeet13/Dog-breed-identification-TFLearn/blob/master/KerasColab.ipynb\" target=\"_parent\"><img src=\"https://colab.research.google.com/assets/colab-badge.svg\" alt=\"Open In Colab\"/></a>"
      ]
    },
    {
      "cell_type": "code",
      "metadata": {
        "id": "j3U81gw5VKmA",
        "colab_type": "code",
        "outputId": "38436b01-7a62-494d-9a0c-91cd7a96708a",
        "colab": {
          "base_uri": "https://localhost:8080/",
          "height": 34
        }
      },
      "source": [
        "from keras.models import Sequential\n",
        "\n",
        "from keras.preprocessing.image import ImageDataGenerator\n",
        "from keras.layers import Dense, Activation, Flatten, Dropout, BatchNormalization\n",
        "from keras.layers import Conv2D, MaxPooling2D\n",
        "from keras import regularizers, optimizers\n",
        "import pandas as pd\n",
        "import numpy as np"
      ],
      "execution_count": 1,
      "outputs": [
        {
          "output_type": "stream",
          "text": [
            "Using TensorFlow backend.\n"
          ],
          "name": "stderr"
        }
      ]
    },
    {
      "cell_type": "code",
      "metadata": {
        "id": "dpyN_R0-VNlL",
        "colab_type": "code",
        "outputId": "34fb5755-e829-470a-914a-628b92c85cd4",
        "colab": {
          "base_uri": "https://localhost:8080/",
          "height": 122
        }
      },
      "source": [
        "from google.colab import drive\n",
        "drive.mount('/content/gdrive')"
      ],
      "execution_count": 14,
      "outputs": [
        {
          "output_type": "stream",
          "text": [
            "Go to this URL in a browser: https://accounts.google.com/o/oauth2/auth?client_id=947318989803-6bn6qk8qdgf4n4g3pfee6491hc0brc4i.apps.googleusercontent.com&redirect_uri=urn%3Aietf%3Awg%3Aoauth%3A2.0%3Aoob&scope=email%20https%3A%2F%2Fwww.googleapis.com%2Fauth%2Fdocs.test%20https%3A%2F%2Fwww.googleapis.com%2Fauth%2Fdrive%20https%3A%2F%2Fwww.googleapis.com%2Fauth%2Fdrive.photos.readonly%20https%3A%2F%2Fwww.googleapis.com%2Fauth%2Fpeopleapi.readonly&response_type=code\n",
            "\n",
            "Enter your authorization code:\n",
            "··········\n",
            "Mounted at /content/gdrive\n"
          ],
          "name": "stdout"
        }
      ]
    },
    {
      "cell_type": "code",
      "metadata": {
        "id": "KHfJKjECzGm4",
        "colab_type": "code",
        "colab": {
          "base_uri": "https://localhost:8080/",
          "height": 34
        },
        "outputId": "40d64c34-f6b0-4602-cc4b-546850181580"
      },
      "source": [
        "%cd /content/gdrive/My Drive/Dog"
      ],
      "execution_count": 16,
      "outputs": [
        {
          "output_type": "stream",
          "text": [
            "/content/gdrive/My Drive/Dog\n"
          ],
          "name": "stdout"
        }
      ]
    },
    {
      "cell_type": "code",
      "metadata": {
        "id": "uQblD7UqDx3A",
        "colab_type": "code",
        "colab": {}
      },
      "source": [
        "df = pd.read_csv(\"/content/gdrive/My Drive/Dog/labels.csv\")\n",
        "df[\"breed\"]=df[\"breed\"].apply(lambda x:x.split(\",\"))\n",
        "df[\"id\"]=df[\"id\"]+\".jpg\""
      ],
      "execution_count": 0,
      "outputs": []
    },
    {
      "cell_type": "code",
      "metadata": {
        "id": "Vkh7ll6ZG_pr",
        "colab_type": "code",
        "outputId": "433388b7-f554-4ff4-a831-350e304c08b9",
        "colab": {
          "base_uri": "https://localhost:8080/",
          "height": 68
        }
      },
      "source": [
        "labels=[\"affenpinscher\",\n",
        " \"afghan_hound\",\n",
        " \"african_hunting_dog\",\n",
        " \"airedale\",\n",
        " \"american_staffordshire_terrier\",\n",
        " \"appenzeller\",\n",
        " \"australian_terrier\",\n",
        " \"basenji\",\n",
        " \"basset\",\n",
        " \"beagle\",\n",
        " \"bedlington_terrier\",\n",
        " \"bernese_mountain_dog\",\n",
        " \"black-and-tan_coonhound\",\n",
        " \"blenheim_spaniel\",\n",
        " \"bloodhound\",\n",
        " \"bluetick\",\n",
        " \"border_collie\",\n",
        " \"border_terrier\",\n",
        " \"borzoi\",\n",
        " \"boston_bull\",\n",
        " \"bouvier_des_flandres\",\n",
        " \"boxer\",\n",
        " \"brabancon_griffon\",\n",
        " \"briard\",\n",
        " \"brittany_spaniel\",\n",
        " \"bull_mastiff\",\n",
        " \"cairn\",\n",
        " \"cardigan\",\n",
        " \"chesapeake_bay_retriever\",\n",
        " \"chihuahua\",\n",
        " \"chow\",\n",
        " \"clumber\",\n",
        " \"cocker_spaniel\",\n",
        " \"collie\",\n",
        " \"curly-coated_retriever\",\n",
        " \"dandie_dinmont\",\n",
        " \"dhole\",\n",
        " \"dingo\",\n",
        " \"doberman\",\n",
        " \"english_foxhound\",\n",
        " \"english_setter\",\n",
        " \"english_springer\",\n",
        " \"entlebucher\",\n",
        " \"eskimo_dog\",\n",
        " \"flat-coated_retriever\",\n",
        " \"french_bulldog\",\n",
        " \"german_shepherd\",\n",
        " \"german_short-haired_pointer\",\n",
        " \"giant_schnauzer\",\n",
        " \"golden_retriever\",\n",
        " \"gordon_setter\",\n",
        " \"great_dane\",\n",
        " \"great_pyrenees\",\n",
        " \"greater_swiss_mountain_dog\",\n",
        " \"groenendael\",\n",
        " \"ibizan_hound\",\n",
        " \"irish_setter\",\n",
        " \"irish_terrier\",\n",
        " \"irish_water_spaniel\",\n",
        " \"irish_wolfhound\",\n",
        " \"italian_greyhound\",\n",
        " \"japanese_spaniel\",\n",
        " \"keeshond\",\n",
        " \"kelpie\",\n",
        " \"kerry_blue_terrier\",\n",
        " \"komondor\",\n",
        " \"kuvasz\",\n",
        " \"labrador_retriever\",\n",
        " \"lakeland_terrier\",\n",
        " \"leonberg\",\n",
        " \"lhasa\",\n",
        " \"malamute\",\n",
        " \"malinois\",\n",
        " \"maltese_dog\",\n",
        " \"mexican_hairless\",\n",
        " \"miniature_pinscher\",\n",
        " \"miniature_poodle\",\n",
        " \"miniature_schnauzer\",\n",
        " \"newfoundland\",\n",
        " \"norfolk_terrier\",\n",
        " \"norwegian_elkhound\",\n",
        " \"norwich_terrier\",\n",
        " \"old_english_sheepdog\",\n",
        " \"otterhound\",\n",
        " \"papillon\",\n",
        " \"pekinese\",\n",
        " \"pembroke\",\n",
        " \"pomeranian\",\n",
        " \"pug\",\n",
        " \"redbone\",\n",
        " \"rhodesian_ridgeback\",\n",
        " \"rottweiler\",\n",
        " \"saint_bernard\",\n",
        " \"saluki\",\n",
        " \"samoyed\",\n",
        " \"schipperke\",\n",
        " \"scotch_terrier\",\n",
        " \"scottish_deerhound\",\n",
        " \"sealyham_terrier\",\n",
        " \"shetland_sheepdog\",\n",
        " \"shih-tzu\",\n",
        " \"siberian_husky\",\n",
        " \"silky_terrier\",\n",
        " \"soft-coated_wheaten_terrier\",\n",
        " \"staffordshire_bullterrier\",\n",
        " \"standard_poodle\",\n",
        " \"standard_schnauzer\",\n",
        " \"sussex_spaniel\",\n",
        " \"tibetan_mastiff\",\n",
        " \"tibetan_terrier\",\n",
        " \"toy_poodle\",\n",
        " \"toy_terrier\",\n",
        " \"vizsla\",\n",
        " \"walker_hound\",\n",
        " \"weimaraner\",\n",
        " \"welsh_springer_spaniel\",\n",
        " \"west_highland_white_terrier\",\n",
        " \"whippet\",\n",
        " \"wire-haired_fox_terrier\",\n",
        " \"yorkshire_terrier\"]\n",
        "datagen = ImageDataGenerator(rescale=1./255.)\n",
        "test_datagen=ImageDataGenerator(rescale=1./255.)\n",
        "\n",
        "train_generator = datagen.flow_from_dataframe(\n",
        "dataframe=df[:9500],\n",
        "directory=\"/content/gdrive/My Drive/Dog/train\",\n",
        "x_col=\"id\",\n",
        "y_col=\"breed\",\n",
        "batch_size=128,\n",
        "seed=42,\n",
        "shuffle=True,\n",
        "class_mode=\"categorical\",\n",
        "classes=labels,\n",
        "target_size=(200,200))\n",
        "\n",
        "valid_generator=test_datagen.flow_from_dataframe(\n",
        "dataframe=df[9500:10000],\n",
        "directory=\"/content/gdrive/My Drive/Dog/train\",\n",
        "x_col=\"id\",\n",
        "y_col=\"breed\",\n",
        "batch_size=32,\n",
        "seed=42,\n",
        "shuffle=True,\n",
        "class_mode=\"categorical\",\n",
        "classes=labels,\n",
        "target_size=(200,200)\n",
        ")\n",
        "\n",
        "test_generator=test_datagen.flow_from_dataframe(\n",
        "dataframe=df[10000:],\n",
        "directory=\"/content/gdrive/My Drive/Dog/train\",\n",
        "x_col=\"id\",\n",
        "batch_size=1,\n",
        "seed=42,\n",
        "shuffle=False,\n",
        "class_mode=None,\n",
        "target_size=(200,200)\n",
        ")"
      ],
      "execution_count": 19,
      "outputs": [
        {
          "output_type": "stream",
          "text": [
            "Found 9500 validated image filenames belonging to 120 classes.\n",
            "Found 500 validated image filenames belonging to 120 classes.\n",
            "Found 222 validated image filenames.\n"
          ],
          "name": "stdout"
        }
      ]
    },
    {
      "cell_type": "code",
      "metadata": {
        "id": "tIaAAqjuHU8O",
        "colab_type": "code",
        "outputId": "d6d755bc-9bee-4560-80d8-70235557d06e",
        "colab": {
          "base_uri": "https://localhost:8080/",
          "height": 34
        }
      },
      "source": [
        "model = Sequential()\n",
        "model.add(Conv2D(32,(3,3),padding='same',input_shape=(200,200,3)))\n",
        "model.add(Activation('relu'))\n",
        "#model.add(Conv2D(32,(3,3)))\n",
        "#model.add(Activation('relu'))\n",
        "model.add(MaxPooling2D(pool_size=(2,2)))\n",
        "model.add(Dropout(0.25))\n",
        "\n",
        "model.add(Conv2D(64,(3,3), padding='same'))\n",
        "model.add(Activation('relu'))\n",
        "model.add(MaxPooling2D(pool_size=(2,2)))\n",
        "model.add(Conv2D(128,(3,3)))\n",
        "model.add(Activation('relu'))\n",
        "model.add(MaxPooling2D(pool_size=(2,2)))\n",
        "model.add(Dropout(0.25))\n",
        "\n",
        "model.add(Flatten())\n",
        "#model.add(Dense(512))\n",
        "#model.add(Activation('relu'))\n",
        "model.add(Dropout(0.5))\n",
        "model.add(Dense(120,activation='softmax'))\n",
        "model.compile(optimizers.rmsprop(lr=0.00001, decay=1e-6), loss=\"categorical_crossentropy\",metrics=[\"accuracy\"])\n",
        "\n",
        "model.save(\"/content/gdrive/My Drive/Dog/img-model.h5\")\n",
        "print(\"saved model to disk\")"
      ],
      "execution_count": 21,
      "outputs": [
        {
          "output_type": "stream",
          "text": [
            "saved model to disk\n"
          ],
          "name": "stdout"
        }
      ]
    },
    {
      "cell_type": "code",
      "metadata": {
        "id": "DayXVON6IItk",
        "colab_type": "code",
        "outputId": "e4cb6cd8-c07e-4978-f990-aa2dd2f3e53a",
        "colab": {
          "base_uri": "https://localhost:8080/",
          "height": 156
        }
      },
      "source": [
        "STEP_SIZE_TRAIN=train_generator.n//train_generator.batch_size\n",
        "STEP_SIZE_VALID=valid_generator.n//valid_generator.batch_size\n",
        "STEP_SIZE_TEST=test_generator.n//test_generator.batch_size\n",
        "model.fit_generator(generator=train_generator,\n",
        "                    steps_per_epoch=STEP_SIZE_TRAIN,validation_data=valid_generator,\n",
        "                    validation_steps=STEP_SIZE_VALID,\n",
        "                    epochs=10)\n"
      ],
      "execution_count": 0,
      "outputs": [
        {
          "output_type": "stream",
          "text": [
            "W0901 17:20:50.814722 140429400700800 deprecation.py:323] From /usr/local/lib/python3.6/dist-packages/tensorflow/python/ops/math_grad.py:1250: add_dispatch_support.<locals>.wrapper (from tensorflow.python.ops.array_ops) is deprecated and will be removed in a future version.\n",
            "Instructions for updating:\n",
            "Use tf.where in 2.0, which has the same broadcast rule as np.where\n"
          ],
          "name": "stderr"
        },
        {
          "output_type": "stream",
          "text": [
            "Epoch 1/10\n"
          ],
          "name": "stdout"
        },
        {
          "output_type": "stream",
          "text": [
            "/usr/local/lib/python3.6/dist-packages/keras/utils/data_utils.py:610: UserWarning: The input 2 could not be retrieved. It could be because a worker has died.\n",
            "  UserWarning)\n"
          ],
          "name": "stderr"
        },
        {
          "output_type": "stream",
          "text": [
            "23/74 [========>.....................] - ETA: 29:17 - loss: 4.8155 - acc: 0.0078"
          ],
          "name": "stdout"
        }
      ]
    },
    {
      "cell_type": "code",
      "metadata": {
        "id": "-jv7kHT2K1_d",
        "colab_type": "code",
        "colab": {}
      },
      "source": [
        "import numpy as np\n",
        "from keras.preprocessing import image\n",
        "import cv2\n",
        "import keras\n",
        "from keras.models import load_model\n",
        "import matplotlib.pyplot as plt\n",
        "img = cv2.imread(\"Chocolate-Labrador-retriever-puppy.jpg\")\n",
        "model=load_model(\"img-model.h5\")\n",
        "arrayresized = cv2.resize(img,(200,200))\n",
        "inputarray = arrayresized[np.newaxis,...]\n",
        "#img=img.reshape(100,100)\n",
        "#predict=model.predict(img)\n",
        "#plt.plot(inputarray)\n",
        "predict=model.predict(inputarray)\n",
        "y_classes = predict.argmax(axis=-1)\n",
        "print(y_classes)\n",
        "classes=[\"affenpinscher\",\n",
        " \"afghan_hound\",\n",
        " \"african_hunting_dog\",\n",
        " \"airedale\",\n",
        " \"american_staffordshire_terrier\",\n",
        " \"appenzeller\",\n",
        " \"australian_terrier\",\n",
        " \"basenji\",\n",
        " \"basset\",\n",
        " \"beagle\",\n",
        " \"bedlington_terrier\",\n",
        " \"bernese_mountain_dog\",\n",
        " \"black-and-tan_coonhound\",\n",
        " \"blenheim_spaniel\",\n",
        " \"bloodhound\",\n",
        " \"bluetick\",\n",
        " \"border_collie\",\n",
        " \"border_terrier\",\n",
        " \"borzoi\",\n",
        " \"boston_bull\",\n",
        " \"bouvier_des_flandres\",\n",
        " \"boxer\",\n",
        " \"brabancon_griffon\",\n",
        " \"briard\",\n",
        " \"brittany_spaniel\",\n",
        " \"bull_mastiff\",\n",
        " \"cairn\",\n",
        " \"cardigan\",\n",
        " \"chesapeake_bay_retriever\",\n",
        " \"chihuahua\",\n",
        " \"chow\",\n",
        " \"clumber\",\n",
        " \"cocker_spaniel\",\n",
        " \"collie\",\n",
        " \"curly-coated_retriever\",\n",
        " \"dandie_dinmont\",\n",
        " \"dhole\",\n",
        " \"dingo\",\n",
        " \"doberman\",\n",
        " \"english_foxhound\",\n",
        " \"english_setter\",\n",
        " \"english_springer\",\n",
        " \"entlebucher\",\n",
        " \"eskimo_dog\",\n",
        " \"flat-coated_retriever\",\n",
        " \"french_bulldog\",\n",
        " \"german_shepherd\",\n",
        " \"german_short-haired_pointer\",\n",
        " \"giant_schnauzer\",\n",
        " \"golden_retriever\",\n",
        " \"gordon_setter\",\n",
        " \"great_dane\",\n",
        " \"great_pyrenees\",\n",
        " \"greater_swiss_mountain_dog\",\n",
        " \"groenendael\",\n",
        " \"ibizan_hound\",\n",
        " \"irish_setter\",\n",
        " \"irish_terrier\",\n",
        " \"irish_water_spaniel\",\n",
        " \"irish_wolfhound\",\n",
        " \"italian_greyhound\",\n",
        " \"japanese_spaniel\",\n",
        " \"keeshond\",\n",
        " \"kelpie\",\n",
        " \"kerry_blue_terrier\",\n",
        " \"komondor\",\n",
        " \"kuvasz\",\n",
        " \"labrador_retriever\",\n",
        " \"lakeland_terrier\",\n",
        " \"leonberg\",\n",
        " \"lhasa\",\n",
        " \"malamute\",\n",
        " \"malinois\",\n",
        " \"maltese_dog\",\n",
        " \"mexican_hairless\",\n",
        " \"miniature_pinscher\",\n",
        " \"miniature_poodle\",\n",
        " \"miniature_schnauzer\",\n",
        " \"newfoundland\",\n",
        " \"norfolk_terrier\",\n",
        " \"norwegian_elkhound\",\n",
        " \"norwich_terrier\",\n",
        " \"old_english_sheepdog\",\n",
        " \"otterhound\",\n",
        " \"papillon\",\n",
        " \"pekinese\",\n",
        " \"pembroke\",\n",
        " \"pomeranian\",\n",
        " \"pug\",\n",
        " \"redbone\",\n",
        " \"rhodesian_ridgeback\",\n",
        " \"rottweiler\",\n",
        " \"saint_bernard\",\n",
        " \"saluki\",\n",
        " \"samoyed\",\n",
        " \"schipperke\",\n",
        " \"scotch_terrier\",\n",
        " \"scottish_deerhound\",\n",
        " \"sealyham_terrier\",\n",
        " \"shetland_sheepdog\",\n",
        " \"shih-tzu\",\n",
        " \"siberian_husky\",\n",
        " \"silky_terrier\",\n",
        " \"soft-coated_wheaten_terrier\",\n",
        " \"staffordshire_bullterrier\",\n",
        " \"standard_poodle\",\n",
        " \"standard_schnauzer\",\n",
        " \"sussex_spaniel\",\n",
        " \"tibetan_mastiff\",\n",
        " \"tibetan_terrier\",\n",
        " \"toy_poodle\",\n",
        " \"toy_terrier\",\n",
        " \"vizsla\",\n",
        " \"walker_hound\",\n",
        " \"weimaraner\",\n",
        " \"welsh_springer_spaniel\",\n",
        " \"west_highland_white_terrier\",\n",
        " \"whippet\",\n",
        " \"wire-haired_fox_terrier\",\n",
        " \"yorkshire_terrier\"]\n",
        "print(classes[int(y_classes)+1])\n",
        "#keras.applications.densenet.decode_predictions(predict, model = c(\"Xception\", \"VGG16\", \"VGG19\", \"ResNet50\",\n",
        " # \"InceptionV3\"), top = 5)\n",
        "#prediction = classes[int(k)]\n",
        "#print(\"Class: \",prediction)"
      ],
      "execution_count": 0,
      "outputs": []
    },
    {
      "cell_type": "code",
      "metadata": {
        "id": "TSD8zfVbITN2",
        "colab_type": "code",
        "colab": {}
      },
      "source": [
        ""
      ],
      "execution_count": 0,
      "outputs": []
    },
    {
      "cell_type": "code",
      "metadata": {
        "id": "GkBEUOTXH5wB",
        "colab_type": "code",
        "colab": {}
      },
      "source": [
        ""
      ],
      "execution_count": 0,
      "outputs": []
    },
    {
      "cell_type": "code",
      "metadata": {
        "id": "CXdnmglqH0jl",
        "colab_type": "code",
        "colab": {}
      },
      "source": [
        ""
      ],
      "execution_count": 0,
      "outputs": []
    },
    {
      "cell_type": "code",
      "metadata": {
        "id": "BYhZcEJJGn2m",
        "colab_type": "code",
        "colab": {}
      },
      "source": [
        ""
      ],
      "execution_count": 0,
      "outputs": []
    },
    {
      "cell_type": "code",
      "metadata": {
        "id": "kMBaZl-qC7cJ",
        "colab_type": "code",
        "colab": {}
      },
      "source": [
        ""
      ],
      "execution_count": 0,
      "outputs": []
    },
    {
      "cell_type": "code",
      "metadata": {
        "id": "i0JTdZ4RCkc0",
        "colab_type": "code",
        "colab": {}
      },
      "source": [
        ""
      ],
      "execution_count": 0,
      "outputs": []
    },
    {
      "cell_type": "code",
      "metadata": {
        "id": "tvPZcqtmCKKx",
        "colab_type": "code",
        "colab": {}
      },
      "source": [
        ""
      ],
      "execution_count": 0,
      "outputs": []
    },
    {
      "cell_type": "code",
      "metadata": {
        "id": "3wV31l9mBivo",
        "colab_type": "code",
        "colab": {}
      },
      "source": [
        "from google.colab import drive\n",
        "drive.mount('/content/drive')"
      ],
      "execution_count": 0,
      "outputs": []
    },
    {
      "cell_type": "code",
      "metadata": {
        "id": "B8tnpkBNWNMA",
        "colab_type": "code",
        "colab": {}
      },
      "source": [
        ""
      ],
      "execution_count": 0,
      "outputs": []
    }
  ]
}